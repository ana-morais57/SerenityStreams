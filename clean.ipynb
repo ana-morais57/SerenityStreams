{
 "cells": [
  {
   "cell_type": "code",
   "execution_count": 1,
   "id": "5786e6ee-c9a3-4dc6-bfe7-739b5e48f1c5",
   "metadata": {},
   "outputs": [
    {
     "name": "stdout",
     "output_type": "stream",
     "text": [
      "Consolidated chunks: 27\n"
     ]
    },
    {
     "name": "stderr",
     "output_type": "stream",
     "text": [
      "C:\\Users\\anacs\\AppData\\Local\\Temp\\ipykernel_27236\\1998087020.py:51: LangChainDeprecationWarning: The class `OpenAIEmbeddings` was deprecated in LangChain 0.0.9 and will be removed in 1.0. An updated version of the class exists in the :class:`~langchain-openai package and should be used instead. To use it run `pip install -U :class:`~langchain-openai` and import as `from :class:`~langchain_openai import OpenAIEmbeddings``.\n",
      "  embeddings = OpenAIEmbeddings(model=\"text-embedding-3-large\")\n"
     ]
    },
    {
     "name": "stdout",
     "output_type": "stream",
     "text": [
      "ChromaDB created with clean document embeddings.\n"
     ]
    }
   ],
   "source": [
    "import os\n",
    "from langchain.document_loaders import PyPDFLoader\n",
    "from langchain.text_splitter import CharacterTextSplitter\n",
    "from langchain.embeddings import OpenAIEmbeddings\n",
    "from langchain.vectorstores import Chroma\n",
    "from langchain.schema import Document\n",
    "from dotenv import load_dotenv\n",
    "\n",
    "# Load environment variables\n",
    "load_dotenv()\n",
    "api_key = os.getenv(\"OPENAI_API_KEY\")\n",
    "\n",
    "def sanitize_text(text):\n",
    "    \"\"\"Remove invalid content from the text.\"\"\"\n",
    "    sanitized = text.replace(\"null\", \"None\")  # Replace JSON-style null\n",
    "    sanitized = sanitized.replace(\"\\u0000\", \"\")  # Remove null characters\n",
    "    sanitized = sanitized.strip()  # Remove leading/trailing whitespaces\n",
    "    return sanitized\n",
    "\n",
    "# Load and split the PDF\n",
    "document_dir = \"./\"\n",
    "filename = \"youtube_data.pdf\"\n",
    "file_path = os.path.join(document_dir, filename)\n",
    "\n",
    "loader = PyPDFLoader(file_path)\n",
    "pages = loader.load_and_split()\n",
    "\n",
    "# Split into chunks\n",
    "text_splitter = CharacterTextSplitter(chunk_size=10000, chunk_overlap=0)\n",
    "chunks = text_splitter.split_documents(pages)\n",
    "\n",
    "# Sanitize chunks\n",
    "sanitized_chunks = [sanitize_text(chunk.page_content) for chunk in chunks]\n",
    "\n",
    "# Deduplicate and filter chunks\n",
    "unique_chunks = list(set(sanitized_chunks))\n",
    "filtered_chunks = [chunk for chunk in unique_chunks if \"Link:\" in chunk and \"Description:\" in chunk]\n",
    "\n",
    "# Consolidate chunks based on unique links\n",
    "seen_links = set()\n",
    "consolidated_chunks = []\n",
    "for chunk in filtered_chunks:\n",
    "    link = chunk.split(\"Link:\")[1].split(\"\\n\")[0].strip()\n",
    "    if link not in seen_links:\n",
    "        consolidated_chunks.append(chunk)\n",
    "        seen_links.add(link)\n",
    "\n",
    "print(f\"Consolidated chunks: {len(consolidated_chunks)}\")\n",
    "\n",
    "# Create ChromaDB\n",
    "embeddings = OpenAIEmbeddings(model=\"text-embedding-3-large\")\n",
    "documents = [Document(page_content=chunk, metadata={}) for chunk in consolidated_chunks]\n",
    "db = Chroma.from_documents(documents, embeddings, persist_directory=\"./chroma_db\")\n",
    "print(\"ChromaDB created with clean document embeddings.\")"
   ]
  },
  {
   "cell_type": "code",
   "execution_count": null,
   "id": "2e4a1e8f-12a3-4f2e-b324-4382c5667c35",
   "metadata": {},
   "outputs": [],
   "source": []
  }
 ],
 "metadata": {
  "kernelspec": {
   "display_name": "Python 3 (ipykernel)",
   "language": "python",
   "name": "python3"
  },
  "language_info": {
   "codemirror_mode": {
    "name": "ipython",
    "version": 3
   },
   "file_extension": ".py",
   "mimetype": "text/x-python",
   "name": "python",
   "nbconvert_exporter": "python",
   "pygments_lexer": "ipython3",
   "version": "3.12.3"
  }
 },
 "nbformat": 4,
 "nbformat_minor": 5
}
