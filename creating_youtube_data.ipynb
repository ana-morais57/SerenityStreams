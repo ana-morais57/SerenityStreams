{
 "cells": [
  {
   "cell_type": "code",
   "execution_count": 4,
   "id": "87ddfa17-d77a-42e9-b9db-1ac9b0a801c3",
   "metadata": {},
   "outputs": [],
   "source": [
    "import requests\n",
    "\n",
    "def fetch_youtube_data(api_key, query, max_results=10):\n",
    "    url = \"https://www.googleapis.com/youtube/v3/search\"\n",
    "    params = {\n",
    "        \"part\": \"snippet\",\n",
    "        \"q\": query,\n",
    "        \"type\": \"video\",\n",
    "        \"maxResults\": max_results,\n",
    "        \"key\": api_key\n",
    "    }\n",
    "\n",
    "    response = requests.get(url, params=params)\n",
    "    if response.status_code == 200:\n",
    "        results = response.json().get(\"items\", [])\n",
    "        videos = [\n",
    "            {\n",
    "                \"title\": item[\"snippet\"][\"title\"],\n",
    "                \"description\": item[\"snippet\"][\"description\"],\n",
    "                \"link\": f\"https://www.youtube.com/watch?v={item['id']['videoId']}\"\n",
    "            }\n",
    "            for item in results\n",
    "        ]\n",
    "        return videos\n",
    "    else:\n",
    "        print(f\"Error: {response.status_code} - {response.text}\")\n",
    "        return []"
   ]
  },
  {
   "cell_type": "code",
   "execution_count": 6,
   "id": "eaf0f70e-2f02-431d-a434-d79bada1f62e",
   "metadata": {},
   "outputs": [],
   "source": [
    "from dotenv import load_dotenv\n",
    "import os"
   ]
  },
  {
   "cell_type": "code",
   "execution_count": 12,
   "id": "5d14e060-6273-45b2-8bc1-8d7b9ed57848",
   "metadata": {},
   "outputs": [
    {
     "data": {
      "text/plain": [
       "True"
      ]
     },
     "execution_count": 12,
     "metadata": {},
     "output_type": "execute_result"
    }
   ],
   "source": [
    "load_dotenv()"
   ]
  },
  {
   "cell_type": "code",
   "execution_count": 14,
   "id": "53bbd424-65e1-4b18-8c34-d22abe8400fa",
   "metadata": {},
   "outputs": [
    {
     "name": "stdout",
     "output_type": "stream",
     "text": [
      "API key loaded successfully!\n"
     ]
    }
   ],
   "source": [
    "API_KEY = os.getenv(\"YOUTUBE_API_KEY\")\n",
    "if API_KEY:\n",
    "    print(\"API key loaded successfully!\")\n",
    "else:\n",
    "    print(\"API key not found. Check your .env file.\")"
   ]
  },
  {
   "cell_type": "code",
   "execution_count": 16,
   "id": "abc550e9-6c90-4fac-9cc5-bbfb244a1d59",
   "metadata": {},
   "outputs": [],
   "source": [
    "queries_by_category = {\n",
    "    \"Mindfulness and Relaxation\": [\n",
    "        \"meditation\", \"guided meditation\", \"mindfulness meditation\",\n",
    "        \"relaxation techniques\", \"breathing exercises\", \"stress relief exercises\"\n",
    "    ],\n",
    "    \"Cognitive Behavioral Therapy (CBT) and Self-Help\": [\n",
    "        \"CBT techniques\", \"journaling prompts\", \"self-help strategies\",\n",
    "        \"emotional resilience\", \"positive affirmations\"\n",
    "    ],\n",
    "    \"Physical and Somatic Practices\": [\n",
    "        \"yoga for stress relief\", \"somatic release exercises\",\n",
    "        \"progressive muscle relaxation\", \"tai chi for relaxation\"\n",
    "    ],\n",
    "    \"Productivity and Focus\": [\n",
    "        \"focus meditation\", \"productivity techniques\",\n",
    "        \"time management strategies\", \"deep work focus\"\n",
    "    ],\n",
    "    \"Sleep and Rest\": [\n",
    "        \"sleep meditation\", \"bedtime relaxation\",\n",
    "        \"guided meditation for sleep\", \"calming sounds for sleep\"\n",
    "    ],\n",
    "    \"General Well-Being\": [\n",
    "        \"mental health tips\", \"well-being exercises\",\n",
    "        \"positive mindset techniques\", \"building healthy habits\"\n",
    "    ]\n",
    "}"
   ]
  },
  {
   "cell_type": "code",
   "execution_count": 18,
   "id": "e7734be4-3997-4c78-b8ce-79f3252b606d",
   "metadata": {},
   "outputs": [],
   "source": [
    "import requests\n",
    "\n",
    "def fetch_youtube_data(api_key, query, max_results=5):\n",
    "    url = \"https://www.googleapis.com/youtube/v3/search\"\n",
    "    params = {\n",
    "        \"part\": \"snippet\",\n",
    "        \"q\": query,\n",
    "        \"type\": \"video\",\n",
    "        \"maxResults\": max_results,\n",
    "        \"key\": api_key\n",
    "    }\n",
    "\n",
    "    response = requests.get(url, params=params)\n",
    "    if response.status_code == 200:\n",
    "        results = response.json().get(\"items\", [])\n",
    "        videos = [\n",
    "            {\n",
    "                \"title\": item[\"snippet\"][\"title\"],\n",
    "                \"description\": item[\"snippet\"][\"description\"],\n",
    "                \"link\": f\"https://www.youtube.com/watch?v={item['id']['videoId']}\"\n",
    "            }\n",
    "            for item in results\n",
    "        ]\n",
    "        return videos\n",
    "    else:\n",
    "        print(f\"Error fetching data for query '{query}': {response.status_code}\")\n",
    "        return []\n",
    "\n",
    "\n",
    "def fetch_data_for_all_categories(api_key, queries_by_category):\n",
    "    all_data = {}\n",
    "    for category, queries in queries_by_category.items():\n",
    "        print(f\"Fetching data for category: {category}\")\n",
    "        category_videos = []\n",
    "        for query in queries:\n",
    "            videos = fetch_youtube_data(api_key, query)\n",
    "            category_videos.extend(videos)\n",
    "        all_data[category] = category_videos\n",
    "    return all_data"
   ]
  },
  {
   "cell_type": "code",
   "execution_count": 20,
   "id": "f2cd5860-839f-43ad-a379-3a0b21ca75c1",
   "metadata": {},
   "outputs": [
    {
     "name": "stdout",
     "output_type": "stream",
     "text": [
      "Fetching data for category: Mindfulness and Relaxation\n",
      "Fetching data for category: Cognitive Behavioral Therapy (CBT) and Self-Help\n",
      "Fetching data for category: Physical and Somatic Practices\n",
      "Fetching data for category: Productivity and Focus\n",
      "Fetching data for category: Sleep and Rest\n",
      "Fetching data for category: General Well-Being\n"
     ]
    }
   ],
   "source": [
    "all_videos_by_category = fetch_data_for_all_categories(API_KEY, queries_by_category)"
   ]
  },
  {
   "cell_type": "code",
   "execution_count": 34,
   "id": "017e155d-1cee-4e98-ba7f-d1fb790df9c9",
   "metadata": {},
   "outputs": [],
   "source": [
    "from fpdf import FPDF\n",
    "\n",
    "def sanitize_text(text):\n",
    "    \"\"\"Remove unsupported characters for fpdf.\"\"\"\n",
    "    return text.encode('latin-1', 'replace').decode('latin-1')\n",
    "\n",
    "def create_pdf_from_data(output_path, data):\n",
    "    pdf = FPDF()\n",
    "    pdf.set_auto_page_break(auto=True, margin=15)\n",
    "    pdf.add_page()\n",
    "    pdf.set_font(\"Arial\", style='B', size=16)\n",
    "\n",
    "    # Add Title\n",
    "    pdf.cell(0, 10, sanitize_text(\"YouTube Data Organized by Categories\"), ln=True)\n",
    "    pdf.ln(10)\n",
    "\n",
    "    # Loop through each category and its videos\n",
    "    for category, videos in data.items():\n",
    "        pdf.set_font(\"Arial\", style='B', size=14)\n",
    "        pdf.cell(0, 10, sanitize_text(category), ln=True)  # Sanitize category names\n",
    "        pdf.ln(5)\n",
    "\n",
    "        for video in videos:\n",
    "            pdf.set_font(\"Arial\", style='B', size=12)\n",
    "            pdf.cell(0, 10, sanitize_text(video[\"title\"]), ln=True)  # Sanitize video title\n",
    "            pdf.set_font(\"Arial\", size=10)\n",
    "            pdf.multi_cell(0, 10, f\"Description: {sanitize_text(video['description'])}\")  # Sanitize description\n",
    "            pdf.ln(5)\n",
    "            pdf.set_text_color(0, 0, 255)  # Blue for links\n",
    "            pdf.cell(0, 10, f\"Link: {video['link']}\", ln=True, link=video[\"link\"])  # Links don't need sanitization\n",
    "            pdf.set_text_color(0, 0, 0)  # Reset color to black\n",
    "            pdf.ln(10)\n",
    "\n",
    "    # Save PDF\n",
    "    pdf.output(output_path)\n",
    "    print(f\"PDF saved to {output_path}\")"
   ]
  },
  {
   "cell_type": "code",
   "execution_count": 36,
   "id": "5bafa5d7-53bf-4881-91d0-53428a19ee87",
   "metadata": {},
   "outputs": [
    {
     "name": "stdout",
     "output_type": "stream",
     "text": [
      "PDF saved to youtube_data.pdf\n"
     ]
    }
   ],
   "source": [
    "create_pdf_from_data(\"youtube_data.pdf\", all_videos_by_category)"
   ]
  },
  {
   "cell_type": "code",
   "execution_count": null,
   "id": "d0e3f25c-6113-44fb-a537-d21f55b4bbee",
   "metadata": {},
   "outputs": [],
   "source": [
    "queries = [\n",
    "    \"meditation\", \"guided meditation\", \"stress relief exercises\",\n",
    "    \"yoga for stress relief\", \"CBT techniques\", \"self-help strategies\",\n",
    "    \"focus meditation\", \"sleep meditation\"\n",
    "]\n",
    "\n",
    "url = \"https://www.googleapis.com/youtube/v3/search\"\n",
    "\n",
    "all_videos = []\n",
    "\n",
    "for query in queries:\n",
    "    print(f\"Fetching videos for: {query}\")\n",
    "    params = {\n",
    "        \"part\": \"snippet\",\n",
    "        \"q\": query,\n",
    "        \"type\": \"video\",\n",
    "        \"maxResults\": 5,\n",
    "        \"key\": API_KEY\n",
    "    }\n",
    "    response = requests.get(url, params=params)\n",
    "    if response.status_code == 200:\n",
    "        results = response.json().get(\"items\", [])\n",
    "        videos = [\n",
    "            {\n",
    "                \"title\": item[\"snippet\"][\"title\"],\n",
    "                \"description\": item[\"snippet\"][\"description\"],\n",
    "                \"link\": f\"https://www.youtube.com/watch?v={item['id']['videoId']}\"\n",
    "            }\n",
    "            for item in results\n",
    "        ]\n",
    "        all_videos.extend(videos)\n",
    "    else:\n",
    "        print(f\"Error fetching for {query}: {response.status_code} - {response.text}\")\n",
    "\n",
    "# Save all collected video data to a PDF or file\n",
    "print(f\"Collected {len(all_videos)} videos!\")"
   ]
  }
 ],
 "metadata": {
  "kernelspec": {
   "display_name": "Python 3 (ipykernel)",
   "language": "python",
   "name": "python3"
  },
  "language_info": {
   "codemirror_mode": {
    "name": "ipython",
    "version": 3
   },
   "file_extension": ".py",
   "mimetype": "text/x-python",
   "name": "python",
   "nbconvert_exporter": "python",
   "pygments_lexer": "ipython3",
   "version": "3.12.3"
  }
 },
 "nbformat": 4,
 "nbformat_minor": 5
}
